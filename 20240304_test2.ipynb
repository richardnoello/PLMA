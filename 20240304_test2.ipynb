{
  "nbformat": 4,
  "nbformat_minor": 0,
  "metadata": {
    "colab": {
      "provenance": []
    },
    "kernelspec": {
      "name": "python3",
      "display_name": "Python 3"
    },
    "language_info": {
      "name": "python"
    }
  },
  "cells": [
    {
      "cell_type": "code",
      "execution_count": null,
      "metadata": {
        "colab": {
          "base_uri": "https://localhost:8080/"
        },
        "id": "fRPQP155dlSn",
        "outputId": "602e1f9e-e16b-4810-e329-4a7be2f71b17"
      },
      "outputs": [
        {
          "output_type": "stream",
          "name": "stdout",
          "text": [
            "Ans. is = 495\n"
          ]
        }
      ],
      "source": [
        "x=2\n",
        "y=1\n",
        "a=(2*x+y)\n",
        "b=(100-y)\n",
        "print(\"Ans. is =\", a*b)"
      ]
    },
    {
      "cell_type": "code",
      "source": [
        "y=4\n",
        "a=100\n",
        "b=2*y+1\n",
        "print(\"ans.is=\", a/b)"
      ],
      "metadata": {
        "colab": {
          "base_uri": "https://localhost:8080/"
        },
        "id": "tOrGMmfRfvk0",
        "outputId": "c5d27276-b91c-447e-f757-e184b335b97d"
      },
      "execution_count": null,
      "outputs": [
        {
          "output_type": "stream",
          "name": "stdout",
          "text": [
            "ans.is= 11.11111111111111\n"
          ]
        }
      ]
    }
  ]
}