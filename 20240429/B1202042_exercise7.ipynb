{
  "nbformat": 4,
  "nbformat_minor": 0,
  "metadata": {
    "colab": {
      "provenance": []
    },
    "kernelspec": {
      "name": "python3",
      "display_name": "Python 3"
    },
    "language_info": {
      "name": "python"
    }
  },
  "cells": [
    {
      "cell_type": "code",
      "source": [
        "star='*'\n",
        "def a(rows):\n",
        "  for i in range(rows):\n",
        "    print(' '*(rows-i-1)+'*'*(2*i+1))\n",
        "def b(rows):\n",
        "  for i in range(1,6):\n",
        "    print(' '*(rows-2)+'***')\n",
        "\n",
        "rows=int(input('請輸入層數'))\n",
        "a(rows)\n",
        "b(rows)"
      ],
      "metadata": {
        "colab": {
          "base_uri": "https://localhost:8080/"
        },
        "id": "E1UEalhP8jqU",
        "outputId": "00b9b9a1-2dee-4ec4-a904-5d76089f050a"
      },
      "execution_count": 15,
      "outputs": [
        {
          "output_type": "stream",
          "name": "stdout",
          "text": [
            "請輸入層數9\n",
            "        *\n",
            "       ***\n",
            "      *****\n",
            "     *******\n",
            "    *********\n",
            "   ***********\n",
            "  *************\n",
            " ***************\n",
            "*****************\n",
            "       ***\n",
            "       ***\n",
            "       ***\n",
            "       ***\n",
            "       ***\n"
          ]
        }
      ]
    },
    {
      "cell_type": "code",
      "source": [
        "height=(input(\"請輸入身高：（公分）\"))\n",
        "weight=(input(\"請輸入體重：（公斤）\"))\n",
        "\n",
        "def BMI(height, weight):\n",
        "    BMI = weight / (height * height)\n",
        "    if BMI < 18.5:\n",
        "        ans = 'too thin'\n",
        "    elif BMI >= 18.5 and BMI < 24:\n",
        "        ans = 'moderate'\n",
        "    elif BMI >= 24 and BMI < 27:\n",
        "        ans = 'too fat'\n",
        "    else:\n",
        "        ans = 'obesity'\n",
        "    return BMI, ans\n",
        "\n",
        "try:\n",
        "    height = float(height)\n",
        "    weight = float(weight)\n",
        "    height /= 100\n",
        "    BMI, ans = BMI(height, weight)\n",
        "    print(f'BMI: {BMI}')\n",
        "    print(f'Status: {ans}')\n",
        "except:\n",
        "    print('輸入內容錯誤，請輸入數字')\n",
        "\n"
      ],
      "metadata": {
        "colab": {
          "base_uri": "https://localhost:8080/"
        },
        "id": "pAQn0utv4mDd",
        "outputId": "4e666b67-6cf8-4afb-be0b-dbe43b9c775b"
      },
      "execution_count": 11,
      "outputs": [
        {
          "output_type": "stream",
          "name": "stdout",
          "text": [
            "請輸入身高：（公分）170\n",
            "請輸入體重：（公斤）eat\n",
            "輸入內容錯誤，請輸入數字\n"
          ]
        }
      ]
    },
    {
      "cell_type": "code",
      "source": [
        "height=(input(\"請輸入身高：（公分）\"))\n",
        "weight=(input(\"請輸入體重：（公斤）\"))\n",
        "\n",
        "def BMI(height, weight):\n",
        "    BMI = weight / (height * height)\n",
        "    if BMI < 18.5:\n",
        "        ans = 'too thin'\n",
        "    elif BMI >= 18.5 and BMI < 24:\n",
        "        ans = 'moderate'\n",
        "    elif BMI >= 24 and BMI < 27:\n",
        "        ans = 'too fat'\n",
        "    else:\n",
        "        ans = 'obesity'\n",
        "    return BMI, ans\n",
        "\n",
        "try:\n",
        "    height = float(height)\n",
        "    weight = float(weight)\n",
        "    height /= 100\n",
        "    BMI, ans = BMI(height, weight)\n",
        "    print(f'BMI: {BMI}')\n",
        "    print(f'Status: {ans}')\n",
        "except:\n",
        "    print('輸入內容錯誤，請輸入數字')"
      ],
      "metadata": {
        "colab": {
          "base_uri": "https://localhost:8080/"
        },
        "id": "4_5Kyjmz8UqV",
        "outputId": "486a8eff-bc56-42fa-f14a-790b930c1afc"
      },
      "execution_count": 12,
      "outputs": [
        {
          "output_type": "stream",
          "name": "stdout",
          "text": [
            "請輸入身高：（公分）172\n",
            "請輸入體重：（公斤）68\n",
            "BMI: 22.985397512168742\n",
            "Status: moderate\n"
          ]
        }
      ]
    }
  ]
}