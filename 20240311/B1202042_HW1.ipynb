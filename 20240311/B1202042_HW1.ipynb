{
  "nbformat": 4,
  "nbformat_minor": 0,
  "metadata": {
    "colab": {
      "provenance": []
    },
    "kernelspec": {
      "name": "python3",
      "display_name": "Python 3"
    },
    "language_info": {
      "name": "python"
    }
  },
  "cells": [
    {
      "cell_type": "code",
      "execution_count": null,
      "metadata": {
        "colab": {
          "base_uri": "https://localhost:8080/"
        },
        "id": "W0Mypq1RpEsP",
        "outputId": "d5371d65-0def-490f-fd85-126137a0f64f"
      },
      "outputs": [
        {
          "output_type": "stream",
          "name": "stdout",
          "text": [
            "I'm a student\n"
          ]
        }
      ],
      "source": [
        "print(\"I'm a student\")"
      ]
    },
    {
      "cell_type": "code",
      "source": [
        "x1 = int(input(\"請輸入點 A 的 x 座標：\"))\n",
        "y1 = int(input(\"請輸入點 A 的 y 座標：\"))\n",
        "x2 = int(input(\"請輸入點 B 的 x 座標：\"))\n",
        "y2 = int(input(\"請輸入點 B 的 y 座標：\"))\n",
        "a=((x1-x2)**2+(y1-y2)**2)**0.5\n",
        "print(\"兩點距離為：\",a)"
      ],
      "metadata": {
        "id": "0ObwxARfsUkH",
        "colab": {
          "base_uri": "https://localhost:8080/"
        },
        "outputId": "d5dbe729-18d4-4b87-fa44-25f9c86b77ea"
      },
      "execution_count": 1,
      "outputs": [
        {
          "output_type": "stream",
          "name": "stdout",
          "text": [
            "請輸入點 A 的 x 座標：1\n",
            "請輸入點 A 的 y 座標：2\n",
            "請輸入點 B 的 x 座標：5\n",
            "請輸入點 B 的 y 座標：6\n",
            "兩點距離為： 5.656854249492381\n"
          ]
        }
      ]
    },
    {
      "cell_type": "code",
      "source": [
        "h=int(input(\"請輸入身高：（公分）\"))\n",
        "w=int(input(\"請輸入體重：（公斤）\"))\n",
        "w/=(h/100)**2\n",
        "print(\"您的BMI為：\",w)"
      ],
      "metadata": {
        "colab": {
          "base_uri": "https://localhost:8080/"
        },
        "id": "kdSXrn13Lfmr",
        "outputId": "82a54db6-8f14-4ad9-9dd6-4334b68169e1"
      },
      "execution_count": 2,
      "outputs": [
        {
          "output_type": "stream",
          "name": "stdout",
          "text": [
            "請輸入身高：（公分）173\n",
            "請輸入體重：（公斤）73\n",
            "您的BMI為： 24.3910588392529\n"
          ]
        }
      ]
    }
  ]
}