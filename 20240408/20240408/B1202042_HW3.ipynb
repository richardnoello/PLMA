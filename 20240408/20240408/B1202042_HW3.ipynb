{
  "nbformat": 4,
  "nbformat_minor": 0,
  "metadata": {
    "colab": {
      "provenance": []
    },
    "kernelspec": {
      "name": "python3",
      "display_name": "Python 3"
    },
    "language_info": {
      "name": "python"
    }
  },
  "cells": [
    {
      "cell_type": "code",
      "source": [
        "a= float(input('使用者輸入年份'))\n",
        "if a <= 1582:\n",
        "  b=a\n",
        "  if b%4 == 0:\n",
        "    print('閏年')\n",
        "  else:\n",
        "    print('平年')\n",
        "elif a > 1582:\n",
        "  c = a\n",
        "  if c%4 == 0:\n",
        "    if c%100 == 0 and c%400 == 0:\n",
        "      print('閏年')\n",
        "    elif c%100 == 0:\n",
        "      print('平年')\n",
        "    else:\n",
        "      print('閏年')\n",
        "  else:\n",
        "    print('平年')"
      ],
      "metadata": {
        "colab": {
          "base_uri": "https://localhost:8080/"
        },
        "id": "CoK_5HIXM1F5",
        "outputId": "efe53a2c-cf52-499f-ae3c-03a6d0744581"
      },
      "execution_count": 8,
      "outputs": [
        {
          "output_type": "stream",
          "name": "stdout",
          "text": [
            "使用者輸入年份1709\n",
            "平年\n"
          ]
        }
      ]
    }
  ]
}