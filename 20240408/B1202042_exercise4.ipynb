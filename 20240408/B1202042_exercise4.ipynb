{
  "nbformat": 4,
  "nbformat_minor": 0,
  "metadata": {
    "colab": {
      "provenance": []
    },
    "kernelspec": {
      "name": "python3",
      "display_name": "Python 3"
    },
    "language_info": {
      "name": "python"
    }
  },
  "cells": [
    {
      "cell_type": "code",
      "source": [
        "h=int(input(\"請輸入身高：（公分）\"))\n",
        "w=int(input(\"請輸入體重：（公斤）\"))\n",
        "bmi=w/(h/100)**2\n",
        "print(\"您的BMI為：\",bmi)\n",
        "if bmi<18.5:\n",
        "  print('過輕')\n",
        "elif 18.5<=bmi<24:\n",
        "  print('適中')\n",
        "elif 24<=bmi<27:\n",
        "  print('過重')\n",
        "elif bmi>=27:\n",
        "  print('肥胖')"
      ],
      "metadata": {
        "colab": {
          "base_uri": "https://localhost:8080/"
        },
        "id": "eRFwWofrmoV9",
        "outputId": "a8793820-1805-45ac-a184-a4b3a0e00fed"
      },
      "execution_count": 12,
      "outputs": [
        {
          "output_type": "stream",
          "name": "stdout",
          "text": [
            "請輸入身高：（公分）172\n",
            "請輸入體重：（公斤）70\n",
            "您的BMI為： 23.661438615467823\n",
            "適中\n"
          ]
        }
      ]
    },
    {
      "cell_type": "code",
      "source": [
        "a=float(input('請輸入第一個數字:'))\n",
        "b=str(input('請輸入運算符號(+-*/):'))\n",
        "c=float(input('請輸入第二個數字:'))\n",
        "if b=='+':\n",
        "  print(a+c)\n",
        "elif b=='-':\n",
        "  print(a-c)\n",
        "elif b=='*':\n",
        "  print(a*c)\n",
        "elif b=='/':\n",
        "  print(a/c)"
      ],
      "metadata": {
        "colab": {
          "base_uri": "https://localhost:8080/"
        },
        "id": "k91Z7BCvpO3k",
        "outputId": "c22f4563-5d8e-466e-a044-1648c7619581"
      },
      "execution_count": 14,
      "outputs": [
        {
          "output_type": "stream",
          "name": "stdout",
          "text": [
            "請輸入第一個數字:2\n",
            "請輸入運算符號(+-*/):+\n",
            "請輸入第二個數字:3\n",
            "5.0\n"
          ]
        }
      ]
    }
  ]
}